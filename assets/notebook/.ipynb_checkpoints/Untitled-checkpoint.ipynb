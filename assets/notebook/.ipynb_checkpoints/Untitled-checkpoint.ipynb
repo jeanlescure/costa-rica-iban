{
 "cells": [
  {
   "cell_type": "code",
   "execution_count": 15,
   "id": "64a82a9e",
   "metadata": {},
   "outputs": [
    {
     "name": "stderr",
     "output_type": "stream",
     "text": [
      "node:internal/modules/cjs/loader:488\n",
      "      throw e;\n",
      "      ^\n",
      "\n",
      "Error [ERR_PACKAGE_PATH_NOT_EXPORTED]: Package subpath './dist/d3-dsv.js' is not defined by \"exports\" in /home/jeanlescure/Work/Code/2020-02-12--OPENSOURCE--costa-rica-iban/costa-rica-iban/assets/notebook/node_modules/d3-dsv/package.json\n",
      "\u001b[90m    at new NodeError (node:internal/errors:371:5)\u001b[39m\n",
      "\u001b[90m    at throwExportsNotFound (node:internal/modules/esm/resolve:440:9)\u001b[39m\n",
      "\u001b[90m    at packageExportsResolve (node:internal/modules/esm/resolve:692:3)\u001b[39m\n",
      "\u001b[90m    at resolveExports (node:internal/modules/cjs/loader:482:36)\u001b[39m\n",
      "\u001b[90m    at Function.Module._findPath (node:internal/modules/cjs/loader:522:31)\u001b[39m\n",
      "\u001b[90m    at Function.Module._resolveFilename (node:internal/modules/cjs/loader:919:27)\u001b[39m\n",
      "\u001b[90m    at Function.Module._load (node:internal/modules/cjs/loader:778:27)\u001b[39m\n",
      "\u001b[90m    at Module.require (node:internal/modules/cjs/loader:1005:19)\u001b[39m\n",
      "\u001b[90m    at require (node:internal/modules/cjs/helpers:102:18)\u001b[39m\n",
      "    at Object.apply (/home/jeanlescure/.nvm/versions/node/v16.13.2/lib/node_modules/\u001b[4mtslab\u001b[24m/dist/executor.js:63:24) {\n",
      "  code: \u001b[32m'ERR_PACKAGE_PATH_NOT_EXPORTED'\u001b[39m\n",
      "}\n"
     ]
    }
   ],
   "source": [
    "import { readFileSync } from 'fs';\n",
    "import * as tslab from 'tslab';\n",
    "import { JSDOM } from 'jsdom';\n",
    "\n",
    "const csvParse = require('d3-dsv/umd').csvParse;\n",
    "const d3Selection = require('d3-selection/dist/d3-selection.js');\n",
    "const {\n",
    "  select,\n",
    "  selectAll,\n",
    "  append,\n",
    "  data,\n",
    "  text,\n",
    "} = d3Selection;\n",
    "\n",
    "const { window } = new JSDOM(``, { pretendToBeVisual: true });\n",
    "const { document } = window;\n",
    "\n",
    "// const root = document.createElement('div');\n",
    "// root.style.cssText = 'width: 500px; height: 500px;';\n",
    "// Object.defineProperty(root, 'clientWidth', {value: 500});\n",
    "// Object.defineProperty(root, 'clientHeight', {value: 500});\n",
    "\n",
    "const csvString = readFileSync('../codificaciones-generales-del-sistema-de-pagos.csv');\n",
    "\n",
    "console.log(csvString);\n",
    "\n",
    "// tslab.display.html(root.outerHTML);"
   ]
  }
 ],
 "metadata": {
  "kernelspec": {
   "display_name": "TypeScript",
   "language": "typescript",
   "name": "tslab"
  },
  "language_info": {
   "codemirror_mode": {
    "mode": "typescript",
    "name": "javascript",
    "typescript": true
   },
   "file_extension": ".ts",
   "mimetype": "text/typescript",
   "name": "typescript",
   "version": "3.7.2"
  }
 },
 "nbformat": 4,
 "nbformat_minor": 5
}
